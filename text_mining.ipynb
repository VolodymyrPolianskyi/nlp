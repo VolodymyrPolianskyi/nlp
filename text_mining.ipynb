{
 "cells": [
  {
   "cell_type": "markdown",
   "id": "a7d9a756",
   "metadata": {},
   "source": [
    "##Import packages"
   ]
  },
  {
   "cell_type": "code",
   "execution_count": 33,
   "id": "92c89a09",
   "metadata": {},
   "outputs": [],
   "source": [
    "import json\n",
    "import string\n",
    "import os\n",
    "import pandas as pd\n",
    "from nltk.stem import PorterStemmer\n",
    "from nltk.tokenize import word_tokenize\n",
    "from nltk.corpus import PlaintextCorpusReader, stopwords\n",
    "from sklearn.feature_extraction.text import CountVectorizer, TfidfVectorizer"
   ]
  },
  {
   "cell_type": "markdown",
   "id": "0e39f597",
   "metadata": {},
   "source": [
    "###Create documents corpus"
   ]
  },
  {
   "cell_type": "code",
   "execution_count": null,
   "id": "a2a7fb25",
   "metadata": {},
   "outputs": [],
   "source": [
    "corpus_dir = './Literature-original'\n",
    "corpus = PlaintextCorpusReader(corpus_dir, '.*\\.txt')\n",
    "files_names = corpus.fileids()\n",
    "files_names"
   ]
  },
  {
   "cell_type": "markdown",
   "id": "b4a3de21",
   "metadata": {},
   "source": [
    "blya"
   ]
  },
  {
   "cell_type": "code",
   "execution_count": null,
   "id": "0257de95",
   "metadata": {},
   "outputs": [],
   "source": [
    "documents = {}\n",
    "for file_name in files_names:\n",
    "    documents[file_name] = corpus.raw(file_name)\n",
    "print(json.dumps(documents, indent=4, ensure_ascii=False))"
   ]
  },
  {
   "cell_type": "code",
   "execution_count": null,
   "id": "9b15e2ef",
   "metadata": {},
   "outputs": [],
   "source": [
    "lengths = {}\n",
    "for file_name in documents:\n",
    "    lengths[file_name] = {\n",
    "        \"pre\":len(word_tokenize(documents[file_name]))\n",
    "    }\n",
    "print(json.dumps(lengths, indent=4, ensure_ascii=False))"
   ]
  },
  {
   "cell_type": "code",
   "execution_count": null,
   "id": "ef170e71",
   "metadata": {},
   "outputs": [],
   "source": [
    "ps = PorterStemmer()"
   ]
  },
  {
   "cell_type": "code",
   "execution_count": null,
   "id": "ba58d72a",
   "metadata": {},
   "outputs": [],
   "source": [
    "for file_name in documents:\n",
    "    documents[file_name] = documents[file_name].lower()\n",
    "    documents[file_name] = \"\".join([char for char in documents[file_name] if char not in string.punctuation])\n",
    "    documents[file_name] = \"\".join([char for char in documents[file_name] if not char.isdigit()])\n",
    "    documents[file_name] = ' '.join([ps.stem(word) for word in word_tokenize(documents[file_name])])\n",
    "    documents[file_name] = ' '.join([word for word in word_tokenize(documents[file_name]) if word not in list(stopwords.words('english'))])\n",
    "print(json.dumps(documents, indent=4, ensure_ascii=False))\n"
   ]
  },
  {
   "cell_type": "code",
   "execution_count": null,
   "id": "385c57f7",
   "metadata": {},
   "outputs": [],
   "source": [
    "for file_name in documents:\n",
    "    lengths[file_name]['post'] = len(word_tokenize(documents[file_name]))\n",
    "print(json.dumps(lengths, indent=4, ensure_ascii=False))"
   ]
  },
  {
   "cell_type": "code",
   "execution_count": null,
   "id": "1fe6ef63",
   "metadata": {},
   "outputs": [],
   "source": [
    "lengths = pd.DataFrame.from_dict(lengths, orient='index')"
   ]
  },
  {
   "cell_type": "code",
   "execution_count": null,
   "id": "953cd696",
   "metadata": {},
   "outputs": [],
   "source": [
    "lengths['diff']=lengths['pre']-lengths['post']\n",
    "lengths['pct'] = lengths['diff']/lengths['pre']\n",
    "lengths"
   ]
  },
  {
   "cell_type": "markdown",
   "id": "fc631113",
   "metadata": {},
   "source": [
    "### create frequency matrix"
   ]
  },
  {
   "cell_type": "code",
   "execution_count": null,
   "id": "863e2d6d",
   "metadata": {},
   "outputs": [],
   "source": [
    "docs = pd.DataFrame.from_dict(documents, orient='index')\n",
    "docs.columns = ['content']\n",
    "docs"
   ]
  },
  {
   "cell_type": "code",
   "execution_count": null,
   "id": "2cac7192",
   "metadata": {},
   "outputs": [],
   "source": [
    "cv = CountVectorizer()\n",
    "matrix_tf = cv.fit_transform(docs['content'])\n",
    "matrix_tf"
   ]
  },
  {
   "cell_type": "code",
   "execution_count": null,
   "id": "dd1beeef",
   "metadata": {},
   "outputs": [],
   "source": [
    "sparsity_tf = 1 - (matrix_tf.getnnz()/(matrix_tf.shape[0]*matrix_tf.shape[1]))\n",
    "sparsity_tf"
   ]
  },
  {
   "cell_type": "markdown",
   "id": "1fa6c067",
   "metadata": {},
   "source": [
    "### dir fr"
   ]
  },
  {
   "cell_type": "code",
   "execution_count": 34,
   "id": "1b1dde30",
   "metadata": {},
   "outputs": [],
   "source": [
    "if not os.path.exists(\"./wordclouds\"):\n",
    "    os.mkdir(\"./worldclouds\")\n",
    "if not os.path.exists(\"./topic_modeling\"):\n",
    "    os.mkdir(\"./topic_modeling\")\n",
    "if not os.path.exists(\"./topic_modeling/topics\"):\n",
    "    os.mkdir(\"./topic_modeling/topics\")\n",
    "if not os.path.exists(\"./topic_modeling/documents\"):\n",
    "    os.mkdir(\"./topic_modeling/documents\")\n",
    "if not os.path.exists(\"./clustering\"):\n",
    "    os.mkdir(\"./clustering\")\n",
    "if not os.path.exists(\"./ngrams\"):\n",
    "    os.mkdir(\"./ngrams\")"
   ]
  },
  {
   "cell_type": "markdown",
   "id": "bdb5cd87",
   "metadata": {},
   "source": [
    "### wrldclds"
   ]
  },
  {
   "cell_type": "code",
   "execution_count": null,
   "id": "166be132",
   "metadata": {},
   "outputs": [],
   "source": []
  },
  {
   "cell_type": "markdown",
   "id": "c62d82db",
   "metadata": {},
   "source": [
    "### topic m"
   ]
  },
  {
   "cell_type": "markdown",
   "id": "38b52034",
   "metadata": {},
   "source": [
    "### clstrn"
   ]
  },
  {
   "cell_type": "markdown",
   "id": "aa85be07",
   "metadata": {},
   "source": [
    "### N-grs"
   ]
  }
 ],
 "metadata": {
  "kernelspec": {
   "display_name": ".venv",
   "language": "python",
   "name": "python3"
  },
  "language_info": {
   "codemirror_mode": {
    "name": "ipython",
    "version": 3
   },
   "file_extension": ".py",
   "mimetype": "text/x-python",
   "name": "python",
   "nbconvert_exporter": "python",
   "pygments_lexer": "ipython3",
   "version": "3.11.4"
  }
 },
 "nbformat": 4,
 "nbformat_minor": 5
}
