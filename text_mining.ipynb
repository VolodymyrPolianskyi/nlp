{
 "cells": [
  {
   "cell_type": "markdown",
   "id": "a7d9a756",
   "metadata": {},
   "source": [
    "##Import packages"
   ]
  },
  {
   "cell_type": "code",
   "execution_count": null,
   "id": "92c89a09",
   "metadata": {},
   "outputs": [],
   "source": [
    "import json\n",
    "import string\n",
    "from nltk.stem import PorterStemmer\n",
    "from nltk.tokenize import word_tokenize\n",
    "from nltk.corpus import PlaintextCorpusReader, stopwords"
   ]
  },
  {
   "cell_type": "markdown",
   "id": "0e39f597",
   "metadata": {},
   "source": [
    "###Create documents corpus"
   ]
  },
  {
   "cell_type": "code",
   "execution_count": null,
   "id": "a2a7fb25",
   "metadata": {},
   "outputs": [],
   "source": [
    "corpus_dir = './Literature-original'\n",
    "corpus = PlaintextCorpusReader(corpus_dir, '.*\\.txt')\n",
    "files_names = corpus.fileids()\n",
    "files_names"
   ]
  },
  {
   "cell_type": "markdown",
   "id": "b4a3de21",
   "metadata": {},
   "source": [
    "blya"
   ]
  },
  {
   "cell_type": "code",
   "execution_count": null,
   "id": "0257de95",
   "metadata": {},
   "outputs": [],
   "source": [
    "documents = {}\n",
    "for file_name in files_names:\n",
    "    documents[file_name] = corpus.raw(file_name)\n",
    "print(json.dumps(documents, indent=4, ensure_ascii=False))"
   ]
  },
  {
   "cell_type": "code",
   "execution_count": null,
   "id": "ef170e71",
   "metadata": {},
   "outputs": [],
   "source": [
    "ps = PorterStemmer()"
   ]
  },
  {
   "cell_type": "code",
   "execution_count": null,
   "id": "ba58d72a",
   "metadata": {},
   "outputs": [],
   "source": [
    "for file_name in documents:\n",
    "    documents[file_name] = documents[file_name].lower()\n",
    "    documents[file_name] = \"\".join([char for char in documents[file_name] if char not in string.punctuation])\n",
    "    documents[file_name] = \"\".join([char for char in documents[file_name] if not char.isdigit()])\n",
    "    documents[file_name] = ' '.join([ps.stem(word) for word in word_tokenize(documents[file_name])])\n",
    "    documents[file_name] = ' '.join([word for word in word_tokenize(documents[file_name]) if word not in list(stopwords.words('english'))])\n",
    "print(json.dumps(documents, indent=4, ensure_ascii=False))\n"
   ]
  }
 ],
 "metadata": {
  "kernelspec": {
   "display_name": ".venv",
   "language": "python",
   "name": "python3"
  },
  "language_info": {
   "codemirror_mode": {
    "name": "ipython",
    "version": 3
   },
   "file_extension": ".py",
   "mimetype": "text/x-python",
   "name": "python",
   "nbconvert_exporter": "python",
   "pygments_lexer": "ipython3",
   "version": "3.11.4"
  }
 },
 "nbformat": 4,
 "nbformat_minor": 5
}
